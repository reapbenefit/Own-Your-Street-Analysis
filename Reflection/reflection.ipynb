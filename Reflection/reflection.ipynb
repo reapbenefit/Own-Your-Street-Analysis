{
 "cells": [
  {
   "cell_type": "code",
   "execution_count": 13,
   "metadata": {},
   "outputs": [],
   "source": [
    "import collections\n",
    "import pandas as pd\n",
    "import numpy as np\n",
    "import gspread \n",
    "from google.oauth2 import service_account\n",
    "import emoji\n",
    "import plotly.express as px"
   ]
  },
  {
   "cell_type": "code",
   "execution_count": 14,
   "metadata": {},
   "outputs": [
    {
     "data": {
      "text/html": [
       "<div>\n",
       "<style scoped>\n",
       "    .dataframe tbody tr th:only-of-type {\n",
       "        vertical-align: middle;\n",
       "    }\n",
       "\n",
       "    .dataframe tbody tr th {\n",
       "        vertical-align: top;\n",
       "    }\n",
       "\n",
       "    .dataframe thead th {\n",
       "        text-align: right;\n",
       "    }\n",
       "</style>\n",
       "<table border=\"1\" class=\"dataframe\">\n",
       "  <thead>\n",
       "    <tr style=\"text-align: right;\">\n",
       "      <th></th>\n",
       "      <th>date</th>\n",
       "      <th>name</th>\n",
       "      <th>number</th>\n",
       "      <th>address</th>\n",
       "      <th>reflection1</th>\n",
       "      <th>reflection2</th>\n",
       "      <th>response1</th>\n",
       "      <th>nps1</th>\n",
       "      <th>nps2</th>\n",
       "      <th>response2</th>\n",
       "    </tr>\n",
       "  </thead>\n",
       "  <tbody>\n",
       "    <tr>\n",
       "      <th>0</th>\n",
       "      <td>2022-06-03</td>\n",
       "      <td>Smriti</td>\n",
       "      <td>94922</td>\n",
       "      <td>#107,muthanellur cross, chandapura road, sarja...</td>\n",
       "      <td>NaN</td>\n",
       "      <td>very fun and informative :)</td>\n",
       "      <td>Positive</td>\n",
       "      <td>✅</td>\n",
       "      <td>increases awareness of one's own surroundings,...</td>\n",
       "      <td>Positive</td>\n",
       "    </tr>\n",
       "    <tr>\n",
       "      <th>1</th>\n",
       "      <td>2022-06-03</td>\n",
       "      <td>Manav</td>\n",
       "      <td>157639</td>\n",
       "      <td>54, 10, Debendra Chandra Dey Rd, near ITC Sona...</td>\n",
       "      <td>NaN</td>\n",
       "      <td>https://filemanager.gupshup.io/fm/wamedia/RBGl...</td>\n",
       "      <td>Neutral</td>\n",
       "      <td>✅</td>\n",
       "      <td>https://filemanager.gupshup.io/fm/wamedia/RBGl...</td>\n",
       "      <td>Neutral</td>\n",
       "    </tr>\n",
       "    <tr>\n",
       "      <th>2</th>\n",
       "      <td>2022-06-03</td>\n",
       "      <td>Madhumita</td>\n",
       "      <td>15158</td>\n",
       "      <td>3, MMTC Colony Main Rd, Eswaran Colony, Lakshm...</td>\n",
       "      <td>NaN</td>\n",
       "      <td>I didn't know I had so many trees on my street...</td>\n",
       "      <td>Positive</td>\n",
       "      <td>✅</td>\n",
       "      <td>It can help to identify if there are any probl...</td>\n",
       "      <td>Positive</td>\n",
       "    </tr>\n",
       "    <tr>\n",
       "      <th>3</th>\n",
       "      <td>2022-06-03</td>\n",
       "      <td>Nikita</td>\n",
       "      <td>168904</td>\n",
       "      <td>Batala Rd, Khanna Nagar, Amritsar, Punjab, India</td>\n",
       "      <td>NaN</td>\n",
       "      <td>It was nice in order to know your surrounding ...</td>\n",
       "      <td>Positive</td>\n",
       "      <td>✅</td>\n",
       "      <td>Because there may be problem in their society ...</td>\n",
       "      <td>Neutral</td>\n",
       "    </tr>\n",
       "    <tr>\n",
       "      <th>4</th>\n",
       "      <td>2022-06-03</td>\n",
       "      <td>Bhoomika</td>\n",
       "      <td>129159</td>\n",
       "      <td>116/2, Babudanga, Bandhaghat, Mali Panchghara,...</td>\n",
       "      <td>NaN</td>\n",
       "      <td>This is really nice! I felt good answering the...</td>\n",
       "      <td>Positive</td>\n",
       "      <td>✅</td>\n",
       "      <td>Because sharing the problems will help in maki...</td>\n",
       "      <td>Positive</td>\n",
       "    </tr>\n",
       "  </tbody>\n",
       "</table>\n",
       "</div>"
      ],
      "text/plain": [
       "         date       name  number  \\\n",
       "0  2022-06-03     Smriti   94922   \n",
       "1  2022-06-03      Manav  157639   \n",
       "2  2022-06-03  Madhumita   15158   \n",
       "3  2022-06-03     Nikita  168904   \n",
       "4  2022-06-03   Bhoomika  129159   \n",
       "\n",
       "                                             address  reflection1  \\\n",
       "0  #107,muthanellur cross, chandapura road, sarja...          NaN   \n",
       "1  54, 10, Debendra Chandra Dey Rd, near ITC Sona...          NaN   \n",
       "2  3, MMTC Colony Main Rd, Eswaran Colony, Lakshm...          NaN   \n",
       "3   Batala Rd, Khanna Nagar, Amritsar, Punjab, India          NaN   \n",
       "4  116/2, Babudanga, Bandhaghat, Mali Panchghara,...          NaN   \n",
       "\n",
       "                                         reflection2 response1 nps1  \\\n",
       "0                        very fun and informative :)  Positive    ✅   \n",
       "1  https://filemanager.gupshup.io/fm/wamedia/RBGl...   Neutral    ✅   \n",
       "2  I didn't know I had so many trees on my street...  Positive    ✅   \n",
       "3  It was nice in order to know your surrounding ...  Positive    ✅   \n",
       "4  This is really nice! I felt good answering the...  Positive    ✅   \n",
       "\n",
       "                                                nps2 response2  \n",
       "0  increases awareness of one's own surroundings,...  Positive  \n",
       "1  https://filemanager.gupshup.io/fm/wamedia/RBGl...   Neutral  \n",
       "2  It can help to identify if there are any probl...  Positive  \n",
       "3  Because there may be problem in their society ...   Neutral  \n",
       "4  Because sharing the problems will help in maki...  Positive  "
      ]
     },
     "execution_count": 14,
     "metadata": {},
     "output_type": "execute_result"
    }
   ],
   "source": [
    "# Load our data set which is the google sheet\n",
    "\n",
    "SCOPES = ['https://www.googleapis.com/auth/spreadsheets']\n",
    "SERVICE_ACCOUNT_FILE = 'gsheet.json'\n",
    "\n",
    "credentials = service_account.Credentials.from_service_account_file(\n",
    "        SERVICE_ACCOUNT_FILE, scopes=SCOPES)\n",
    "\n",
    "\n",
    "gc = gspread.authorize(credentials)\n",
    "\n",
    "sh = gc.open_by_key('1XTQiudjwLorlookKuKKpW53KD5YpVNk9bCInUgN4JEA')\n",
    "worksheet = sh.worksheet(\"Reflection1\")\n",
    "rows = worksheet.get_all_values()\n",
    "\n",
    "# Convert google sheet data to data frame\n",
    "\n",
    "df = pd.DataFrame(rows[1:], columns=rows[0])\n",
    "df[df==\"\"] = np.NaN\n",
    "df.fillna(method=\"ffill\",inplace=True)\n",
    "\n",
    "df.head()"
   ]
  },
  {
   "cell_type": "code",
   "execution_count": 15,
   "metadata": {},
   "outputs": [
    {
     "name": "stdout",
     "output_type": "stream",
     "text": [
      "Total Reflection Responses are:  126\n"
     ]
    }
   ],
   "source": [
    "print(\"Total Reflection Responses are: \", df.shape[0])"
   ]
  },
  {
   "cell_type": "code",
   "execution_count": 16,
   "metadata": {},
   "outputs": [
    {
     "name": "stdout",
     "output_type": "stream",
     "text": [
      "<class 'pandas.core.frame.DataFrame'>\n",
      "RangeIndex: 126 entries, 0 to 125\n",
      "Data columns (total 10 columns):\n",
      "date           126 non-null object\n",
      "name           126 non-null object\n",
      "number         126 non-null object\n",
      "address        126 non-null object\n",
      "reflection1    0 non-null float64\n",
      "reflection2    126 non-null object\n",
      "response1      126 non-null object\n",
      "nps1           126 non-null object\n",
      "nps2           126 non-null object\n",
      "response2      126 non-null object\n",
      "dtypes: float64(1), object(9)\n",
      "memory usage: 9.9+ KB\n"
     ]
    }
   ],
   "source": [
    "df.info()"
   ]
  },
  {
   "cell_type": "code",
   "execution_count": 18,
   "metadata": {},
   "outputs": [
    {
     "name": "stdout",
     "output_type": "stream",
     "text": [
      "Total percentage of tick marks for NPS1 are:  93%\n"
     ]
    }
   ],
   "source": [
    "# NPS1 reponses \n",
    "count=0\n",
    "\n",
    "for i in range(0,len(df)):\n",
    "    if((df.loc[i,'nps1']==u'\\u2705')):\n",
    "        count+=1\n",
    "\n",
    "print(\"Total percentage of tick marks for NPS1 are:  \"+str(round((count/len(df))*100))+\"%\")"
   ]
  },
  {
   "cell_type": "code",
   "execution_count": 19,
   "metadata": {},
   "outputs": [
    {
     "name": "stdout",
     "output_type": "stream",
     "text": [
      "Total percentage of positive reponses for NPS2 are:  39%\n",
      "Total percentage of negative reponses for NPS2 are:  10%\n",
      "Total percentage of neutral reponses for NPS2 are:  51%\n"
     ]
    }
   ],
   "source": [
    "# NPS2 reponses \n",
    "pos=0\n",
    "neu=0\n",
    "neg=0\n",
    "\n",
    "for i in range(0,len(df)):\n",
    "    if((df.loc[i,'response2']=='Positive')):\n",
    "        pos+=1\n",
    "    elif((df.loc[i,'response2']=='Negative')):\n",
    "        neg+=1\n",
    "    else:\n",
    "        neu+=1\n",
    "\n",
    "print(\"Total percentage of positive reponses for NPS2 are:  \"+str(round((pos/len(df))*100))+\"%\")\n",
    "print(\"Total percentage of negative reponses for NPS2 are:  \"+str(round((neg/len(df))*100))+\"%\")\n",
    "print(\"Total percentage of neutral reponses for NPS2 are:  \"+str(round((neu/len(df))*100))+\"%\")"
   ]
  },
  {
   "cell_type": "code",
   "execution_count": 21,
   "metadata": {},
   "outputs": [
    {
     "name": "stdout",
     "output_type": "stream",
     "text": [
      "Total percentage of positive reponses for reflection2 are:  61%\n",
      "Total percentage of negative reponses for reflection2 are:  9%\n",
      "Total percentage of neutral reponses for reflection2 are:  30%\n"
     ]
    }
   ],
   "source": [
    "# Reflection2 reponses \n",
    "pos=0\n",
    "neu=0\n",
    "neg=0\n",
    "\n",
    "for i in range(0,len(df)):\n",
    "    if((df.loc[i,'response1']=='Positive')):\n",
    "        pos+=1\n",
    "    elif((df.loc[i,'response1']=='Negative')):\n",
    "        neg+=1\n",
    "    else:\n",
    "        neu+=1\n",
    "\n",
    "print(\"Total percentage of positive reponses for reflection2 are:  \"+str(round((pos/len(df))*100))+\"%\")\n",
    "print(\"Total percentage of negative reponses for reflection2 are:  \"+str(round((neg/len(df))*100))+\"%\")\n",
    "print(\"Total percentage of neutral reponses for reflection2 are:  \"+str(round((neu/len(df))*100))+\"%\")"
   ]
  },
  {
   "cell_type": "code",
   "execution_count": null,
   "metadata": {},
   "outputs": [],
   "source": []
  }
 ],
 "metadata": {
  "kernelspec": {
   "display_name": "Python 3",
   "language": "python",
   "name": "python3"
  },
  "language_info": {
   "codemirror_mode": {
    "name": "ipython",
    "version": 3
   },
   "file_extension": ".py",
   "mimetype": "text/x-python",
   "name": "python",
   "nbconvert_exporter": "python",
   "pygments_lexer": "ipython3",
   "version": "3.7.0"
  }
 },
 "nbformat": 4,
 "nbformat_minor": 4
}
